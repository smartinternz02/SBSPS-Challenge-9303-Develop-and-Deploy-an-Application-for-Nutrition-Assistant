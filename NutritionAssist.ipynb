{
  "cells": [
    {
      "cell_type": "code",
      "execution_count": 38,
      "metadata": {
        "colab": {
          "base_uri": "https://localhost:8080/",
          "height": 0
        },
        "id": "T4DLpywpxobQ",
        "outputId": "30eb4d51-286a-43d4-c219-bceddfa6a19c"
      },
      "outputs": [
        {
          "output_type": "stream",
          "name": "stdout",
          "text": [
            "Looking in indexes: https://pypi.org/simple, https://us-python.pkg.dev/colab-wheels/public/simple/\n",
            "Requirement already satisfied: flask-ngrok in /usr/local/lib/python3.7/dist-packages (0.0.25)\n",
            "Requirement already satisfied: Flask>=0.8 in /usr/local/lib/python3.7/dist-packages (from flask-ngrok) (1.1.4)\n",
            "Requirement already satisfied: requests in /usr/local/lib/python3.7/dist-packages (from flask-ngrok) (2.23.0)\n",
            "Requirement already satisfied: click<8.0,>=5.1 in /usr/local/lib/python3.7/dist-packages (from Flask>=0.8->flask-ngrok) (7.1.2)\n",
            "Requirement already satisfied: Werkzeug<2.0,>=0.15 in /usr/local/lib/python3.7/dist-packages (from Flask>=0.8->flask-ngrok) (1.0.1)\n",
            "Requirement already satisfied: Jinja2<3.0,>=2.10.1 in /usr/local/lib/python3.7/dist-packages (from Flask>=0.8->flask-ngrok) (2.11.3)\n",
            "Requirement already satisfied: itsdangerous<2.0,>=0.24 in /usr/local/lib/python3.7/dist-packages (from Flask>=0.8->flask-ngrok) (1.1.0)\n",
            "Requirement already satisfied: MarkupSafe>=0.23 in /usr/local/lib/python3.7/dist-packages (from Jinja2<3.0,>=2.10.1->Flask>=0.8->flask-ngrok) (2.0.1)\n",
            "Requirement already satisfied: chardet<4,>=3.0.2 in /usr/local/lib/python3.7/dist-packages (from requests->flask-ngrok) (3.0.4)\n",
            "Requirement already satisfied: certifi>=2017.4.17 in /usr/local/lib/python3.7/dist-packages (from requests->flask-ngrok) (2022.9.24)\n",
            "Requirement already satisfied: urllib3!=1.25.0,!=1.25.1,<1.26,>=1.21.1 in /usr/local/lib/python3.7/dist-packages (from requests->flask-ngrok) (1.24.3)\n",
            "Requirement already satisfied: idna<3,>=2.5 in /usr/local/lib/python3.7/dist-packages (from requests->flask-ngrok) (2.10)\n"
          ]
        }
      ],
      "source": [
        "!pip install flask-ngrok\n"
      ]
    },
    {
      "cell_type": "code",
      "source": [
        "import os\n",
        "if not os.path.exists('templates'):\n",
        "  os.mkdir('templates')\n",
        "if not os.path.exists('static'):\n",
        "  os.mkdir('static')\n",
        "if not os.path.exists('static/input_img'):\n",
        "  os.mkdir('static/input_img')\n",
        "if not os.path.exists('static/images'):\n",
        "  os.mkdir('static/images')"
      ],
      "metadata": {
        "id": "Vx4dj3PFiXI6"
      },
      "execution_count": 6,
      "outputs": []
    },
    {
      "cell_type": "code",
      "source": [
        "from google.colab import drive\n",
        "drive.mount('/content/drive')"
      ],
      "metadata": {
        "id": "hZkF7F-VP4Ml",
        "colab": {
          "base_uri": "https://localhost:8080/",
          "height": 0
        },
        "outputId": "2125f9c4-de0b-4e8e-892c-a843ed43eef2"
      },
      "execution_count": 7,
      "outputs": [
        {
          "output_type": "stream",
          "name": "stdout",
          "text": [
            "Drive already mounted at /content/drive; to attempt to forcibly remount, call drive.mount(\"/content/drive\", force_remount=True).\n"
          ]
        }
      ]
    },
    {
      "cell_type": "code",
      "execution_count": 8,
      "metadata": {
        "colab": {
          "base_uri": "https://localhost:8080/",
          "height": 0
        },
        "id": "e7niYPij3S7e",
        "outputId": "4e9d593b-2037-412f-c734-1c0e7dd8175a"
      },
      "outputs": [
        {
          "output_type": "stream",
          "name": "stdout",
          "text": [
            "Looking in indexes: https://pypi.org/simple, https://us-python.pkg.dev/colab-wheels/public/simple/\n",
            "Requirement already satisfied: pyngrok in /usr/local/lib/python3.7/dist-packages (5.1.0)\n",
            "Requirement already satisfied: PyYAML in /usr/local/lib/python3.7/dist-packages (from pyngrok) (6.0)\n"
          ]
        }
      ],
      "source": [
        "!pip install pyngrok"
      ]
    },
    {
      "cell_type": "code",
      "execution_count": 9,
      "metadata": {
        "colab": {
          "base_uri": "https://localhost:8080/",
          "height": 0
        },
        "id": "JaNSWBGRiSwU",
        "outputId": "9984fbd0-3f40-454a-c643-b01ccaa21aff"
      },
      "outputs": [
        {
          "output_type": "stream",
          "name": "stdout",
          "text": [
            "Looking in indexes: https://pypi.org/simple, https://us-python.pkg.dev/colab-wheels/public/simple/\n",
            "Collecting ibm_db\n",
            "  Downloading ibm_db-3.1.3.tar.gz (1.4 MB)\n",
            "\u001b[K     |████████████████████████████████| 1.4 MB 7.0 MB/s \n",
            "\u001b[?25h  Installing build dependencies ... \u001b[?25l\u001b[?25hdone\n",
            "  Getting requirements to build wheel ... \u001b[?25l\u001b[?25hdone\n",
            "  Installing backend dependencies ... \u001b[?25l\u001b[?25hdone\n",
            "    Preparing wheel metadata ... \u001b[?25l\u001b[?25hdone\n",
            "Building wheels for collected packages: ibm-db\n",
            "  Building wheel for ibm-db (PEP 517) ... \u001b[?25l\u001b[?25hdone\n",
            "  Created wheel for ibm-db: filename=ibm_db-3.1.3-cp37-cp37m-linux_x86_64.whl size=41466365 sha256=64d5dd2cadb2d67132902c4a4d186cf852b9dbff8aa4ae01efd2b08da7600ebd\n",
            "  Stored in directory: /root/.cache/pip/wheels/a7/fe/6f/52ae8e5a30a0626cec5f28f908e4d2c8c7f537d67d33eda2f1\n",
            "Successfully built ibm-db\n",
            "Installing collected packages: ibm-db\n",
            "Successfully installed ibm-db-3.1.3\n",
            "Looking in indexes: https://pypi.org/simple, https://us-python.pkg.dev/colab-wheels/public/simple/\n",
            "Collecting ibm_db_sa\n",
            "  Downloading ibm_db_sa-0.3.8-py3-none-any.whl (30 kB)\n",
            "Requirement already satisfied: ibm-db>=2.0.0 in /usr/local/lib/python3.7/dist-packages (from ibm_db_sa) (3.1.3)\n",
            "Requirement already satisfied: sqlalchemy>=0.7.3 in /usr/local/lib/python3.7/dist-packages (from ibm_db_sa) (1.4.41)\n",
            "Requirement already satisfied: importlib-metadata in /usr/local/lib/python3.7/dist-packages (from sqlalchemy>=0.7.3->ibm_db_sa) (5.0.0)\n",
            "Requirement already satisfied: greenlet!=0.4.17 in /usr/local/lib/python3.7/dist-packages (from sqlalchemy>=0.7.3->ibm_db_sa) (1.1.3.post0)\n",
            "Requirement already satisfied: typing-extensions>=3.6.4 in /usr/local/lib/python3.7/dist-packages (from importlib-metadata->sqlalchemy>=0.7.3->ibm_db_sa) (4.1.1)\n",
            "Requirement already satisfied: zipp>=0.5 in /usr/local/lib/python3.7/dist-packages (from importlib-metadata->sqlalchemy>=0.7.3->ibm_db_sa) (3.9.0)\n",
            "Installing collected packages: ibm-db-sa\n",
            "Successfully installed ibm-db-sa-0.3.8\n",
            "Looking in indexes: https://pypi.org/simple, https://us-python.pkg.dev/colab-wheels/public/simple/\n",
            "Requirement already satisfied: SQLAlchemy in /usr/local/lib/python3.7/dist-packages (1.4.41)\n",
            "Requirement already satisfied: greenlet!=0.4.17 in /usr/local/lib/python3.7/dist-packages (from SQLAlchemy) (1.1.3.post0)\n",
            "Requirement already satisfied: importlib-metadata in /usr/local/lib/python3.7/dist-packages (from SQLAlchemy) (5.0.0)\n",
            "Requirement already satisfied: zipp>=0.5 in /usr/local/lib/python3.7/dist-packages (from importlib-metadata->SQLAlchemy) (3.9.0)\n",
            "Requirement already satisfied: typing-extensions>=3.6.4 in /usr/local/lib/python3.7/dist-packages (from importlib-metadata->SQLAlchemy) (4.1.1)\n"
          ]
        }
      ],
      "source": [
        "!pip install --upgrade ibm_db\n",
        "!pip install --upgrade ibm_db_sa\n",
        "!pip install --upgrade SQLAlchemy"
      ]
    },
    {
      "cell_type": "code",
      "source": [
        "import numpy as np\n",
        "import keras\n",
        "from keras.models import load_model\n",
        "from keras.preprocessing import image"
      ],
      "metadata": {
        "id": "0HArViZloeoy"
      },
      "execution_count": 10,
      "outputs": []
    },
    {
      "cell_type": "code",
      "source": [
        "import tensorflow as tf"
      ],
      "metadata": {
        "id": "q_3h4AvVcO-h"
      },
      "execution_count": 11,
      "outputs": []
    },
    {
      "cell_type": "code",
      "source": [
        "UPLOAD_FOLDER='/content/static/input_img'\n"
      ],
      "metadata": {
        "id": "rbB17l77CHKO"
      },
      "execution_count": 12,
      "outputs": []
    },
    {
      "cell_type": "code",
      "source": [
        "foodlist=['Apple',\n",
        " 'Badam',\n",
        " 'Badam Drink',\n",
        " 'Banana',\n",
        " 'Beef Steak',\n",
        " 'Beetroot Fry',\n",
        " 'Biriyani',\n",
        " 'Biscuits',\n",
        " 'Bitter Guard Fry',\n",
        " 'Boiled egg',\n",
        " 'Bread and Jam',\n",
        " 'Bread with Peanutbutter',\n",
        " 'Burger',\n",
        " 'Capsicum Curry',\n",
        " 'Cashew',\n",
        " 'Cauliflower Fry',\n",
        " 'Chappathi',\n",
        " 'Cheeseballs',\n",
        " 'Chilli Beef',\n",
        " 'Chocolate',\n",
        " 'Chocolate Icecream',\n",
        " 'Choolapoori with Channa',\n",
        " 'Coffee or Latte',\n",
        " 'Crab Masala',\n",
        " 'Cucumber',\n",
        " 'Curdrice',\n",
        " 'Dosa',\n",
        " 'Dragon Fruit',\n",
        " 'Drumstick Gravy',\n",
        " 'Dry Grapes',\n",
        " 'Falooda',\n",
        " 'Fig',\n",
        " 'Fish Fry',\n",
        " 'French Fries',\n",
        " 'Fresh Juices',\n",
        " 'Fried Rice',\n",
        " 'Grapes',\n",
        " 'Grill Chicken',\n",
        " 'Gulab Jamun',\n",
        " 'Halwa',\n",
        " 'Ice Apple',\n",
        " 'Idiyappam',\n",
        " 'Idly',\n",
        " 'Ivygourd Fry',\n",
        " 'Jilebi',\n",
        " 'Ladys Finger',\n",
        " 'Lemon Rice',\n",
        " 'Maa Ladoo',\n",
        " 'Mango',\n",
        " 'Milk',\n",
        " 'Momos',\n",
        " 'Murukku',\n",
        " 'Mushroom Gravy',\n",
        " 'Nachos',\n",
        " 'Oats',\n",
        " 'Omelette',\n",
        " 'Orange',\n",
        " 'Panner Butter Masala',\n",
        " 'Parota',\n",
        " 'Pasta',\n",
        " 'Pineapple',\n",
        " 'Pistas',\n",
        " 'Pizza',\n",
        " 'Plain Bread',\n",
        " 'Pongal',\n",
        " 'Poori',\n",
        " 'Pork Bbq',\n",
        " 'Potato Fry',\n",
        " 'Prawn',\n",
        " 'Puttu',\n",
        " 'Rasagulla',\n",
        " 'Rasamalai',\n",
        " 'Ravadosa',\n",
        " 'Rose Milk',\n",
        " 'Sambar Idly',\n",
        " 'Sambar Vada',\n",
        " 'Samosa',\n",
        " 'Sapota',\n",
        " 'Shawarma',\n",
        " 'Soft Drinks',\n",
        " 'Spinach Gravy',\n",
        " 'Springroll',\n",
        " 'Sprouts',\n",
        " 'Steamed Redrice',\n",
        " 'Tamarind Rice',\n",
        " 'Tea',\n",
        " 'Tender Coconut',\n",
        " 'Vadapav',\n",
        " 'Vanilla Icecream',\n",
        " 'Wheat Bread',\n",
        " 'Whiterice with Spinach',\n",
        " 'Whiterice with Vegetablestew']\n"
      ],
      "metadata": {
        "id": "bEJJo0WyOjHg"
      },
      "execution_count": 13,
      "outputs": []
    },
    {
      "cell_type": "code",
      "execution_count": 40,
      "metadata": {
        "colab": {
          "base_uri": "https://localhost:8080/",
          "height": 0
        },
        "id": "3UhIdUkfvjpv",
        "outputId": "dfb5415c-4356-4e27-f820-361ce8a1e965"
      },
      "outputs": [
        {
          "output_type": "stream",
          "name": "stdout",
          "text": [
            "True\n",
            " * Serving Flask app \"__main__\" (lazy loading)\n",
            " * Environment: production\n",
            "\u001b[31m   WARNING: This is a development server. Do not use it in a production deployment.\u001b[0m\n",
            "\u001b[2m   Use a production WSGI server instead.\u001b[0m\n",
            " * Debug mode: off\n"
          ]
        },
        {
          "output_type": "stream",
          "name": "stderr",
          "text": [
            "INFO:werkzeug: * Running on http://127.0.0.1:5000/ (Press CTRL+C to quit)\n"
          ]
        },
        {
          "output_type": "stream",
          "name": "stdout",
          "text": [
            " * Running on http://7a23-104-198-4-138.ngrok.io\n",
            " * Traffic stats available on http://127.0.0.1:4040\n"
          ]
        },
        {
          "output_type": "stream",
          "name": "stderr",
          "text": [
            "INFO:werkzeug:127.0.0.1 - - [16/Oct/2022 14:25:44] \"\u001b[37mGET / HTTP/1.1\u001b[0m\" 200 -\n",
            "INFO:werkzeug:127.0.0.1 - - [16/Oct/2022 14:25:44] \"\u001b[37mGET /static/style.css HTTP/1.1\u001b[0m\" 200 -\n",
            "INFO:werkzeug:127.0.0.1 - - [16/Oct/2022 14:25:45] \"\u001b[37mGET /static/images/bg_2.jpg HTTP/1.1\u001b[0m\" 200 -\n"
          ]
        },
        {
          "output_type": "stream",
          "name": "stdout",
          "text": [
            "raji@gmail.com \n",
            " raj@12\n"
          ]
        },
        {
          "output_type": "stream",
          "name": "stderr",
          "text": [
            "INFO:werkzeug:127.0.0.1 - - [16/Oct/2022 14:25:56] \"\u001b[37mGET /welcome?Email=raji%40gmail.com&Password=raj%4012 HTTP/1.1\u001b[0m\" 200 -\n",
            "INFO:werkzeug:127.0.0.1 - - [16/Oct/2022 14:25:56] \"\u001b[33mGET /favicon.ico HTTP/1.1\u001b[0m\" 404 -\n",
            "INFO:werkzeug:127.0.0.1 - - [16/Oct/2022 14:26:01] \"\u001b[37mPOST /bmicalculator HTTP/1.1\u001b[0m\" 200 -\n",
            "INFO:werkzeug:127.0.0.1 - - [16/Oct/2022 14:26:01] \"\u001b[37mGET /static/images/bmi_img.jpg HTTP/1.1\u001b[0m\" 200 -\n",
            "/usr/local/lib/python3.7/dist-packages/sklearn/base.py:566: FutureWarning: Arrays of bytes/strings is being converted to decimal numbers if dtype='numeric'. This behavior is deprecated in 0.24 and will be removed in 1.1 (renaming of 0.26). Please convert your data to numeric values explicitly instead.\n",
            "  X = check_array(X, **check_params)\n",
            "INFO:werkzeug:127.0.0.1 - - [16/Oct/2022 14:26:10] \"\u001b[37mGET /bmi?Weight=50&Height=150 HTTP/1.1\u001b[0m\" 200 -\n"
          ]
        },
        {
          "output_type": "stream",
          "name": "stdout",
          "text": [
            "22.788611063838218\n"
          ]
        },
        {
          "output_type": "stream",
          "name": "stderr",
          "text": [
            "INFO:werkzeug:127.0.0.1 - - [16/Oct/2022 14:26:31] \"\u001b[37mPOST /calorie HTTP/1.1\u001b[0m\" 200 -\n"
          ]
        },
        {
          "output_type": "stream",
          "name": "stdout",
          "text": [
            "<FileStorage: 'th - 2022-09-22T204026.775.jpg' ('image/jpeg')>\n",
            "1/1 [==============================] - 0s 112ms/step\n",
            "214\n",
            "1\n"
          ]
        },
        {
          "output_type": "stream",
          "name": "stderr",
          "text": [
            "INFO:werkzeug:127.0.0.1 - - [16/Oct/2022 14:27:15] \"\u001b[37mPOST /predictcalories HTTP/1.1\u001b[0m\" 200 -\n",
            "INFO:werkzeug:127.0.0.1 - - [16/Oct/2022 14:27:33] \"\u001b[37mPOST /biologicalage HTTP/1.1\u001b[0m\" 200 -\n",
            "INFO:werkzeug:127.0.0.1 - - [16/Oct/2022 14:27:54] \"\u001b[37mGET /bioagecalc?Age=45&Weight=50&Height=150 HTTP/1.1\u001b[0m\" 200 -\n"
          ]
        }
      ],
      "source": [
        "from werkzeug.utils import secure_filename\n",
        "from IPython.core.profiledir import ProfileDirError\n",
        "from flask_ngrok import run_with_ngrok\n",
        "from flask import Flask,render_template,request,redirect,url_for,session\n",
        "from pyngrok import ngrok\n",
        "ngrok.set_auth_token(\"2Ezqku6JC7CLgsXAuubEgbp62j4_BAoQouoxu41Cthe1m834\")\n",
        "import ibm_db\n",
        "import json\n",
        "import requests\n",
        "import pickle\n",
        "import os\n",
        "import io\n",
        "Weight=0\n",
        "Height=0\n",
        "model=pickle.load(open('/content/drive/MyDrive/IBM_HACK CHALLENGE 2022/bmi.pkl','rb'))\n",
        "calorie_model=keras.models.load_model('/content/drive/MyDrive/IBM_HACK CHALLENGE 2022/food_pred.h5')\n",
        "conn = ibm_db.connect(\"DATABASE=bludb;HOSTNAME=3883e7e4-18f5-4afe-be8c-fa31c41761d2.bs2io90l08kqb1od8lcg.databases.appdomain.cloud;PORT=31498;SECURITY=SSL;SSLServerCertificate=DigiCertGlobalRootCA.crt;UID=xwz99062;PWD=4N9mgtHcvmISMZuN\",\"\",\"\")\n",
        "connState=ibm_db.active(conn)\n",
        "print(connState)\n",
        "app=Flask(__name__)\n",
        "run_with_ngrok(app)\n",
        "@app.route('/')\n",
        "def login():\n",
        "  return render_template('login.html')\n",
        "\n",
        "@app.route('/welcome',methods=[\"GET\"])\n",
        "def welcome():\n",
        "  if request.method==\"GET\":\n",
        "    email=request.args.get('Email')\n",
        "    password=request.args.get('Password')\n",
        "    print(email,\"\\n\",password)\n",
        "    login=\"select * from REGISTER where EMAIL=email and PASSWORD=password\"\n",
        "    stmt=ibm_db.prepare(conn,login)\n",
        "    ibm_db.execute(stmt)\n",
        "  return render_template('home.html')\n",
        "\n",
        "@app.route('/register',methods=[\"POST\"])\n",
        "\n",
        "def register():\n",
        "  \n",
        "  return render_template('register.html')\n",
        "\n",
        "@app.route('/success',methods=[\"GET\"])\n",
        "def success():\n",
        "  if request.method==\"GET\":\n",
        "    name=request.args.get('Name')\n",
        "    email=request.args.get('Email')\n",
        "    password=request.args.get('Password')\n",
        "    phone=request.args.get('phone')\n",
        "    print(name,\"\\n\",email,\"\\n\",password,\"\\n\",phone)\n",
        "    insert_sql=\"INSERT INTO REGISTER VALUES (?,?,?,?)\"\n",
        "    stmt=ibm_db.prepare(conn,insert_sql)\n",
        "    ibm_db.bind_param(stmt,1,name)\n",
        "    ibm_db.bind_param(stmt,2,email)\n",
        "    ibm_db.bind_param(stmt,3,password)\n",
        "    ibm_db.bind_param(stmt,4,phone)\n",
        "    ibm_db.execute(stmt)\n",
        "  return render_template('login.html')\n",
        "\n",
        "@app.route('/bmicalculator',methods=[\"POST\"])\n",
        "def bmicalculator():\n",
        "  return render_template(\"bmi.html\")\n",
        "\n",
        "@app.route('/bmi',methods=[\"GET\"])\n",
        "def calculate():\n",
        "  if request.method==\"GET\":\n",
        "    weight=request.args.get('Weight')\n",
        "    height=request.args.get('Height')\n",
        "    arr=model.predict([[weight,height]])\n",
        "    t=float(arr)\n",
        "    print(t)\n",
        "    return render_template(\"bmi.html\",info=t)\n",
        "\n",
        "@app.route('/calorie',methods=[\"POST\"])\n",
        "def calorie():\n",
        "  return render_template('calories.html')\n",
        "      \n",
        "@app.route('/predictcalories',methods=[\"POST\"])\n",
        "def predictcalories():\n",
        "  if request.method==\"POST\":\n",
        "    image=request.files['image']\n",
        "    filename=(secure_filename(image.filename))\n",
        "    app.secret_key = \"secret key\"\n",
        "    app.config['UPLOAD_FOLDER']=UPLOAD_FOLDER\n",
        "    image.save(os.path.join(app.config['UPLOAD_FOLDER'],filename))\n",
        "    print(image)\n",
        "    img = tf.keras.utils.load_img('/content/static/input_img/'+filename,target_size=(64,64))\n",
        "    x=tf.keras.utils.img_to_array(img)\n",
        "    x=np.expand_dims(x,axis=0)\n",
        "    pred=np.argmax(calorie_model.predict(x))\n",
        "    prediction=foodlist[pred]\n",
        "    calories=\"select CALORIES from CALORIES_TABLE where FOOD_NAME= \"+\"\\'\"+prediction+\"\\'\" \n",
        "    st=ibm_db.exec_immediate(conn,calories)\n",
        "    while(ibm_db.fetch_row(st)!=False) :\n",
        "      predict_cal=ibm_db.result(st,0)\n",
        "    print(predict_cal)\n",
        "    cal=request.form.get('Quantity')\n",
        "    print(cal)\n",
        "    calorie_num=float(predict_cal)\n",
        "    q_num=float(cal)\n",
        "    result_cal=float(calorie_num*q_num)\n",
        "    n=str(result_cal)\n",
        "    return render_template(\"calories.html\",info=\"FOOD:\"+prediction,calories=\"Calories:\"+n)\n",
        "      \n",
        "@app.route('/biologicalage',methods=[\"POST\"])\n",
        "def biologicalage():\n",
        "  \n",
        "    return render_template('biologicalage.html')\n",
        "\n",
        "@app.route('/bioagecalc',methods=[\"GET\"])\n",
        "def bioagecalc():\n",
        "  if request.method==\"GET\":\n",
        "    age=float(request.args.get('Age'))\n",
        "    weight=float(request.args.get('Weight'))\n",
        "    height=float(request.args.get('Height'))\n",
        "    arr=model.predict([[weight,height]])\n",
        "    t=float(arr)\n",
        "    if age<18.5:\n",
        "      t=t+1\n",
        "    elif age >=18.5 and age<=25:\n",
        "      t=t-1\n",
        "    elif age>25 and age<=29.9:\n",
        "      t=t+2\n",
        "    else:\n",
        "      t=t+3\n",
        "    return render_template('biologicalage.html',info=t)\n",
        "  \n",
        "\n",
        "if __name__=='__main__':\n",
        "    app.run()"
      ]
    }
  ],
  "metadata": {
    "colab": {
      "collapsed_sections": [],
      "provenance": []
    },
    "kernelspec": {
      "display_name": "Python 3",
      "name": "python3"
    },
    "language_info": {
      "name": "python"
    }
  },
  "nbformat": 4,
  "nbformat_minor": 0
}